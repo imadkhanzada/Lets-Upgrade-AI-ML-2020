{
  "nbformat": 4,
  "nbformat_minor": 0,
  "metadata": {
    "colab": {
      "name": "DAY 3 Assignment",
      "provenance": [],
      "collapsed_sections": []
    },
    "kernelspec": {
      "name": "python3",
      "display_name": "Python 3"
    }
  },
  "cells": [
    {
      "cell_type": "markdown",
      "metadata": {
        "id": "a2kS-gPiQ5No"
      },
      "source": [
        "**Question 1:**\n",
        "Write a program to subtract two complex numbers in Python."
      ]
    },
    {
      "cell_type": "code",
      "metadata": {
        "id": "wwCCejR49M-x",
        "outputId": "3da7dfda-b3fd-4ffc-cb1c-162e207a00c4",
        "colab": {
          "base_uri": "https://localhost:8080/",
          "height": 34
        }
      },
      "source": [
        "\n",
        "a=3+7j\n",
        "b=2+5j\n",
        "print(a-b)"
      ],
      "execution_count": null,
      "outputs": [
        {
          "output_type": "stream",
          "text": [
            "(1+2j)\n"
          ],
          "name": "stdout"
        }
      ]
    },
    {
      "cell_type": "markdown",
      "metadata": {
        "id": "uJSWM6RmEW31"
      },
      "source": [
        "**Question 2 :**\n",
        "Write a program to find the fourth root of a number."
      ]
    },
    {
      "cell_type": "code",
      "metadata": {
        "id": "jUfc2Ktl-stD",
        "outputId": "697cb896-70a1-4603-8cb3-19780d8ed1c6",
        "colab": {
          "base_uri": "https://localhost:8080/",
          "height": 34
        }
      },
      "source": [
        "\n",
        "x=64\n",
        "print(x**(1/4))\n",
        "\n"
      ],
      "execution_count": null,
      "outputs": [
        {
          "output_type": "stream",
          "text": [
            "2.8284271247461903\n"
          ],
          "name": "stdout"
        }
      ]
    },
    {
      "cell_type": "markdown",
      "metadata": {
        "id": "cqDfp85EEe07"
      },
      "source": [
        "**Question 3:**\n",
        "Write a program to swap two numbers in Python with the help of a temporary variable."
      ]
    },
    {
      "cell_type": "code",
      "metadata": {
        "id": "xLqXD3tyC0u9",
        "outputId": "98f867b2-e2c6-4f1a-d251-097350f66189",
        "colab": {
          "base_uri": "https://localhost:8080/",
          "height": 51
        }
      },
      "source": [
        "a=5\n",
        "b=8\n",
        "temp =a\n",
        "a=b\n",
        "b=temp \n",
        "print(\"a=\",a)\n",
        "print(\"b=\",b)\n",
        "\n"
      ],
      "execution_count": null,
      "outputs": [
        {
          "output_type": "stream",
          "text": [
            "a= 8\n",
            "b= 5\n"
          ],
          "name": "stdout"
        }
      ]
    },
    {
      "cell_type": "markdown",
      "metadata": {
        "id": "5bsIZmUfQvGy"
      },
      "source": [
        "**Question 4:**\n",
        "Write a program to swap two numbers in Python without using a temporary variable.\n"
      ]
    },
    {
      "cell_type": "code",
      "metadata": {
        "id": "Q6-bLiX2KrCs",
        "outputId": "ee659a5d-1b75-465a-f833-f61e6233790a",
        "colab": {
          "base_uri": "https://localhost:8080/",
          "height": 51
        }
      },
      "source": [
        "a= 5\n",
        "b= 8\n",
        "a=a+b\n",
        "b=a-b\n",
        "a=a-b\n",
        "print(\"a=\",a)\n",
        "print(\"b=\",b)"
      ],
      "execution_count": null,
      "outputs": [
        {
          "output_type": "stream",
          "text": [
            "a= 8\n",
            "b= 5\n"
          ],
          "name": "stdout"
        }
      ]
    },
    {
      "cell_type": "markdown",
      "metadata": {
        "id": "HRiC8OceUENC"
      },
      "source": [
        "**Question 5:**\n",
        "Write a program to convert Fahrenheit to kelvin and celsius both.\n"
      ]
    },
    {
      "cell_type": "code",
      "metadata": {
        "id": "vCgxHGtVTvpp",
        "outputId": "f130d572-8d14-413e-c6d5-3f1498558f95",
        "colab": {
          "base_uri": "https://localhost:8080/",
          "height": 51
        }
      },
      "source": [
        "a=20\n",
        "cel= (a-32)*5/9\n",
        "print(\"Fahrenheit to celcius temperature=\",cel)\n",
        "b=20\n",
        "kelvin = b + 273.15\n",
        "print(\"Fahrenheit to Kelvin=\",kelvin)"
      ],
      "execution_count": null,
      "outputs": [
        {
          "output_type": "stream",
          "text": [
            "Fahrenheit to celcius temperature= -6.666666666666667\n",
            "Fahrenheit to Kelvin= 293.15\n"
          ],
          "name": "stdout"
        }
      ]
    },
    {
      "cell_type": "markdown",
      "metadata": {
        "id": "0TahVroTYJPr"
      },
      "source": [
        "**Question 6:**\n",
        "Write a program to demonstrate all the available data types in Python. Hint: Use type() function."
      ]
    },
    {
      "cell_type": "code",
      "metadata": {
        "id": "AsQH8wvEWUvS",
        "outputId": "649bc65f-e415-44e0-eb29-be89a07488eb",
        "colab": {
          "base_uri": "https://localhost:8080/",
          "height": 85
        }
      },
      "source": [
        "a=10\n",
        "b=20.123\n",
        "c=\"Imad\"\n",
        "d= 'mady'\n",
        "print(type(a))\n",
        "print(type(b))\n",
        "print(type(c))\n",
        "print(type(d))\n",
        "\n"
      ],
      "execution_count": null,
      "outputs": [
        {
          "output_type": "stream",
          "text": [
            "<class 'int'>\n",
            "<class 'float'>\n",
            "<class 'str'>\n",
            "<class 'str'>\n"
          ],
          "name": "stdout"
        }
      ]
    },
    {
      "cell_type": "markdown",
      "metadata": {
        "id": "vwDVuo22c7_d"
      },
      "source": [
        ""
      ]
    }
  ]
}