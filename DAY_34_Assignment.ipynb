{
  "nbformat": 4,
  "nbformat_minor": 0,
  "metadata": {
    "colab": {
      "name": "DAY 34 Assignment.ipynb",
      "provenance": [],
      "collapsed_sections": []
    },
    "kernelspec": {
      "name": "python3",
      "display_name": "Python 3"
    }
  },
  "cells": [
    {
      "cell_type": "markdown",
      "metadata": {
        "id": "Uq5HSwvJ4ovy"
      },
      "source": [
        "**Question :**\n",
        "1. Use the IRIS dataset and create a decision tree and check the accuracy label."
      ]
    },
    {
      "cell_type": "code",
      "metadata": {
        "id": "sD1g_Ub14RsK"
      },
      "source": [
        "##Importing all Libraries\n",
        "import pandas as pd \n",
        "import numpy as np \n",
        "import matplotlib.pyplot as plt\n"
      ],
      "execution_count": null,
      "outputs": []
    },
    {
      "cell_type": "code",
      "metadata": {
        "id": "ezGwi8Hh5Pue"
      },
      "source": [
        "## Importing iris dataset \n",
        "from sklearn.datasets import load_iris\n",
        "iris=load_iris()"
      ],
      "execution_count": null,
      "outputs": []
    },
    {
      "cell_type": "code",
      "metadata": {
        "id": "WZa9uDs-5emM",
        "outputId": "0cc65b2b-3d62-4211-8cbb-a65f62e47105",
        "colab": {
          "base_uri": "https://localhost:8080/",
          "height": 34
        }
      },
      "source": [
        "dir(iris)"
      ],
      "execution_count": null,
      "outputs": [
        {
          "output_type": "execute_result",
          "data": {
            "text/plain": [
              "['DESCR', 'data', 'feature_names', 'filename', 'target', 'target_names']"
            ]
          },
          "metadata": {
            "tags": []
          },
          "execution_count": 24
        }
      ]
    },
    {
      "cell_type": "code",
      "metadata": {
        "id": "XR0qp4GB59HK",
        "outputId": "9792d7a3-9d4f-4051-a0fc-32c2531aac69",
        "colab": {
          "base_uri": "https://localhost:8080/",
          "height": 34
        }
      },
      "source": [
        "iris.data.shape"
      ],
      "execution_count": null,
      "outputs": [
        {
          "output_type": "execute_result",
          "data": {
            "text/plain": [
              "(150, 4)"
            ]
          },
          "metadata": {
            "tags": []
          },
          "execution_count": 25
        }
      ]
    },
    {
      "cell_type": "code",
      "metadata": {
        "id": "bpu5er5U7rkF",
        "outputId": "8709810c-3869-45b4-80ea-55fd3d3b0035",
        "colab": {
          "base_uri": "https://localhost:8080/",
          "height": 136
        }
      },
      "source": [
        "print(iris.target)\n",
        "print()\n",
        "print(iris.target.shape)"
      ],
      "execution_count": null,
      "outputs": [
        {
          "output_type": "stream",
          "text": [
            "[0 0 0 0 0 0 0 0 0 0 0 0 0 0 0 0 0 0 0 0 0 0 0 0 0 0 0 0 0 0 0 0 0 0 0 0 0\n",
            " 0 0 0 0 0 0 0 0 0 0 0 0 0 1 1 1 1 1 1 1 1 1 1 1 1 1 1 1 1 1 1 1 1 1 1 1 1\n",
            " 1 1 1 1 1 1 1 1 1 1 1 1 1 1 1 1 1 1 1 1 1 1 1 1 1 1 2 2 2 2 2 2 2 2 2 2 2\n",
            " 2 2 2 2 2 2 2 2 2 2 2 2 2 2 2 2 2 2 2 2 2 2 2 2 2 2 2 2 2 2 2 2 2 2 2 2 2\n",
            " 2 2]\n",
            "\n",
            "(150,)\n"
          ],
          "name": "stdout"
        }
      ]
    },
    {
      "cell_type": "code",
      "metadata": {
        "id": "mAS6hQLo8i6V",
        "outputId": "2b03d3b7-43a5-41e4-f978-6f96012e87de",
        "colab": {
          "base_uri": "https://localhost:8080/",
          "height": 34
        }
      },
      "source": [
        "print(iris.target_names)"
      ],
      "execution_count": null,
      "outputs": [
        {
          "output_type": "stream",
          "text": [
            "['setosa' 'versicolor' 'virginica']\n"
          ],
          "name": "stdout"
        }
      ]
    },
    {
      "cell_type": "code",
      "metadata": {
        "id": "FN4O1Z-e6LLR",
        "outputId": "ae82e65f-9935-4937-98b8-28330366d23e",
        "colab": {
          "base_uri": "https://localhost:8080/",
          "height": 34
        }
      },
      "source": [
        "# Assigning  the features into one variable and target data into another variable (Slicing )\n",
        "x=iris.data\n",
        "y=iris.target\n",
        "print(x.shape,y.shape)"
      ],
      "execution_count": null,
      "outputs": [
        {
          "output_type": "stream",
          "text": [
            "(150, 4) (150,)\n"
          ],
          "name": "stdout"
        }
      ]
    },
    {
      "cell_type": "code",
      "metadata": {
        "id": "mqMiQUfv9ff_"
      },
      "source": [
        "##Importing all imp libraries from sklearn\n",
        "from sklearn.model_selection import train_test_split\n",
        "from sklearn.metrics import confusion_matrix,accuracy_score,classification_report\n",
        "from sklearn.preprocessing import StandardScaler"
      ],
      "execution_count": null,
      "outputs": []
    },
    {
      "cell_type": "markdown",
      "metadata": {
        "id": "KniIbLpF8x4h"
      },
      "source": [
        "##Spliting training data and testing\n"
      ]
    },
    {
      "cell_type": "code",
      "metadata": {
        "id": "IrKPeDCD-aXl"
      },
      "source": [
        "xtrain, xtest,ytrain,ytest=train_test_split(x,y,test_size=0.20,random_state=5)"
      ],
      "execution_count": null,
      "outputs": []
    },
    {
      "cell_type": "code",
      "metadata": {
        "id": "3xaEZBT5-rl7",
        "outputId": "bd9510d2-dea5-47eb-ca28-9bc876d4c7de",
        "colab": {
          "base_uri": "https://localhost:8080/",
          "height": 153
        }
      },
      "source": [
        "print('\\n xtrain:',xtrain.shape)\n",
        "print('\\n xtest:',xtest.shape)\n",
        "print('\\n ytrain:',ytrain.shape)\n",
        "print('\\n ytest:',ytest.shape)"
      ],
      "execution_count": null,
      "outputs": [
        {
          "output_type": "stream",
          "text": [
            "\n",
            " xtrain: (120, 4)\n",
            "\n",
            " xtest: (30, 4)\n",
            "\n",
            " ytrain: (120,)\n",
            "\n",
            " ytest: (30,)\n"
          ],
          "name": "stdout"
        }
      ]
    },
    {
      "cell_type": "code",
      "metadata": {
        "id": "3zlmmXjh_PaZ",
        "outputId": "72ea8625-5014-41fa-be95-1ba02f2d31a7",
        "colab": {
          "base_uri": "https://localhost:8080/",
          "height": 34
        }
      },
      "source": [
        "##Scaling down the features using Standard Scaler \n",
        "scaler=StandardScaler()\n",
        "scaler.fit(xtrain)"
      ],
      "execution_count": null,
      "outputs": [
        {
          "output_type": "execute_result",
          "data": {
            "text/plain": [
              "StandardScaler(copy=True, with_mean=True, with_std=True)"
            ]
          },
          "metadata": {
            "tags": []
          },
          "execution_count": 32
        }
      ]
    },
    {
      "cell_type": "code",
      "metadata": {
        "id": "am-X7535_uHA"
      },
      "source": [
        "#feature Scaling\n",
        "scaled_xtrain=scaler.fit_transform(xtrain)\n",
        "scaled_xtest=scaler.fit_transform(xtest)"
      ],
      "execution_count": null,
      "outputs": []
    },
    {
      "cell_type": "markdown",
      "metadata": {
        "id": "YTlLpaOTAS62"
      },
      "source": [
        "##Fitting Decision Tree to dataset"
      ]
    },
    {
      "cell_type": "code",
      "metadata": {
        "id": "2TZbWHQ4AgYt",
        "outputId": "8c5f3584-2ac1-4f7d-f311-b59440e39983",
        "colab": {
          "base_uri": "https://localhost:8080/",
          "height": 119
        }
      },
      "source": [
        "#importing decision tree \n",
        "from sklearn.tree import DecisionTreeClassifier\n",
        "from sklearn import tree\n",
        "classifier = DecisionTreeClassifier(criterion='entropy',random_state=0)\n",
        "classifier.fit(scaled_xtrain,ytrain)"
      ],
      "execution_count": null,
      "outputs": [
        {
          "output_type": "execute_result",
          "data": {
            "text/plain": [
              "DecisionTreeClassifier(ccp_alpha=0.0, class_weight=None, criterion='entropy',\n",
              "                       max_depth=None, max_features=None, max_leaf_nodes=None,\n",
              "                       min_impurity_decrease=0.0, min_impurity_split=None,\n",
              "                       min_samples_leaf=1, min_samples_split=2,\n",
              "                       min_weight_fraction_leaf=0.0, presort='deprecated',\n",
              "                       random_state=0, splitter='best')"
            ]
          },
          "metadata": {
            "tags": []
          },
          "execution_count": 34
        }
      ]
    },
    {
      "cell_type": "code",
      "metadata": {
        "id": "fMsexVuNCfqX",
        "outputId": "15fa5bd3-23fe-4a49-efca-c0f4b04e133c",
        "colab": {
          "base_uri": "https://localhost:8080/",
          "height": 51
        }
      },
      "source": [
        "##predicting the test result\n",
        "ypred=classifier.predict(scaled_xtest)\n",
        "ypred"
      ],
      "execution_count": null,
      "outputs": [
        {
          "output_type": "execute_result",
          "data": {
            "text/plain": [
              "array([1, 1, 2, 0, 2, 1, 0, 1, 0, 1, 1, 1, 2, 2, 0, 0, 1, 2, 0, 0, 1, 2,\n",
              "       0, 1, 1, 2, 1, 1, 1, 2])"
            ]
          },
          "metadata": {
            "tags": []
          },
          "execution_count": 35
        }
      ]
    },
    {
      "cell_type": "code",
      "metadata": {
        "id": "TS-nmQOACu19",
        "outputId": "83d63e8a-56ba-4cf2-f5a0-b343a3388093",
        "colab": {
          "base_uri": "https://localhost:8080/",
          "height": 68
        }
      },
      "source": [
        "##creating confusion matrix \n",
        "matrix=confusion_matrix(ytest,ypred)\n",
        "matrix"
      ],
      "execution_count": null,
      "outputs": [
        {
          "output_type": "execute_result",
          "data": {
            "text/plain": [
              "array([[ 8,  0,  0],\n",
              "       [ 0, 11,  0],\n",
              "       [ 0,  3,  8]])"
            ]
          },
          "metadata": {
            "tags": []
          },
          "execution_count": 36
        }
      ]
    },
    {
      "cell_type": "code",
      "metadata": {
        "id": "KtFEGtYhEiNK",
        "outputId": "4bc4db81-1dd8-455a-8e13-f847407b55b8",
        "colab": {
          "base_uri": "https://localhost:8080/",
          "height": 187
        }
      },
      "source": [
        "##creating Classification report\n",
        "print(classification_report(ytest,ypred))"
      ],
      "execution_count": null,
      "outputs": [
        {
          "output_type": "stream",
          "text": [
            "              precision    recall  f1-score   support\n",
            "\n",
            "           0       1.00      1.00      1.00         8\n",
            "           1       0.79      1.00      0.88        11\n",
            "           2       1.00      0.73      0.84        11\n",
            "\n",
            "    accuracy                           0.90        30\n",
            "   macro avg       0.93      0.91      0.91        30\n",
            "weighted avg       0.92      0.90      0.90        30\n",
            "\n"
          ],
          "name": "stdout"
        }
      ]
    },
    {
      "cell_type": "code",
      "metadata": {
        "id": "XZv8U14tE0gw",
        "outputId": "d7848a11-4752-4d0b-db87-2898dcb67b60",
        "colab": {
          "base_uri": "https://localhost:8080/",
          "height": 34
        }
      },
      "source": [
        "## Checking Accuracy \n",
        "print('Accuracy:',accuracy_score(ytest,ypred)*100)"
      ],
      "execution_count": null,
      "outputs": [
        {
          "output_type": "stream",
          "text": [
            "Accuracy: 90.0\n"
          ],
          "name": "stdout"
        }
      ]
    },
    {
      "cell_type": "code",
      "metadata": {
        "id": "AQhVenr6Ix6l",
        "outputId": "51d43638-b3bb-4757-d77b-9a3f3a60af2b",
        "colab": {
          "base_uri": "https://localhost:8080/",
          "height": 469
        }
      },
      "source": [
        "##Creating Decision tree\n",
        "tree.plot_tree(classifier)\n"
      ],
      "execution_count": null,
      "outputs": [
        {
          "output_type": "execute_result",
          "data": {
            "text/plain": [
              "[Text(125.55000000000001, 199.32, 'X[3] <= -0.485\\nentropy = 1.584\\nsamples = 120\\nvalue = [42, 39, 39]'),\n",
              " Text(83.7, 163.07999999999998, 'entropy = 0.0\\nsamples = 42\\nvalue = [42, 0, 0]'),\n",
              " Text(167.4, 163.07999999999998, 'X[3] <= 0.755\\nentropy = 1.0\\nsamples = 78\\nvalue = [0, 39, 39]'),\n",
              " Text(125.55000000000001, 126.83999999999999, 'X[3] <= 0.363\\nentropy = 0.371\\nsamples = 42\\nvalue = [0, 39, 3]'),\n",
              " Text(83.7, 90.6, 'entropy = 0.0\\nsamples = 28\\nvalue = [0, 28, 0]'),\n",
              " Text(167.4, 90.6, 'X[1] <= -1.035\\nentropy = 0.75\\nsamples = 14\\nvalue = [0, 11, 3]'),\n",
              " Text(83.7, 54.359999999999985, 'X[0] <= 0.312\\nentropy = 0.918\\nsamples = 3\\nvalue = [0, 1, 2]'),\n",
              " Text(41.85, 18.119999999999976, 'entropy = 0.0\\nsamples = 2\\nvalue = [0, 0, 2]'),\n",
              " Text(125.55000000000001, 18.119999999999976, 'entropy = 0.0\\nsamples = 1\\nvalue = [0, 1, 0]'),\n",
              " Text(251.10000000000002, 54.359999999999985, 'X[2] <= 0.992\\nentropy = 0.439\\nsamples = 11\\nvalue = [0, 10, 1]'),\n",
              " Text(209.25, 18.119999999999976, 'entropy = 0.0\\nsamples = 10\\nvalue = [0, 10, 0]'),\n",
              " Text(292.95, 18.119999999999976, 'entropy = 0.0\\nsamples = 1\\nvalue = [0, 0, 1]'),\n",
              " Text(209.25, 126.83999999999999, 'entropy = 0.0\\nsamples = 36\\nvalue = [0, 0, 36]')]"
            ]
          },
          "metadata": {
            "tags": []
          },
          "execution_count": 39
        },
        {
          "output_type": "display_data",
          "data": {
            "image/png": "[encoded data removed]",
            "text/plain": [
              "<Figure size 432x288 with 1 Axes>"
            ]
          },
          "metadata": {
            "tags": [],
            "needs_background": "light"
          }
        }
      ]
    },
    {
      "cell_type": "code",
      "metadata": {
        "id": "ADMWx5yMSB-r",
        "outputId": "306f0855-a7e6-4c8d-9dc3-0be768ce9ab9",
        "colab": {
          "base_uri": "https://localhost:8080/",
          "height": 357
        }
      },
      "source": [
        "text_representation = tree.export_text(classifier)\n",
        "print(text_representation)"
      ],
      "execution_count": null,
      "outputs": [
        {
          "output_type": "stream",
          "text": [
            "|--- feature_3 <= -0.49\n",
            "|   |--- class: 0\n",
            "|--- feature_3 >  -0.49\n",
            "|   |--- feature_3 <= 0.75\n",
            "|   |   |--- feature_3 <= 0.36\n",
            "|   |   |   |--- class: 1\n",
            "|   |   |--- feature_3 >  0.36\n",
            "|   |   |   |--- feature_1 <= -1.04\n",
            "|   |   |   |   |--- feature_0 <= 0.31\n",
            "|   |   |   |   |   |--- class: 2\n",
            "|   |   |   |   |--- feature_0 >  0.31\n",
            "|   |   |   |   |   |--- class: 1\n",
            "|   |   |   |--- feature_1 >  -1.04\n",
            "|   |   |   |   |--- feature_2 <= 0.99\n",
            "|   |   |   |   |   |--- class: 1\n",
            "|   |   |   |   |--- feature_2 >  0.99\n",
            "|   |   |   |   |   |--- class: 2\n",
            "|   |--- feature_3 >  0.75\n",
            "|   |   |--- class: 2\n",
            "\n"
          ],
          "name": "stdout"
        }
      ]
    }
  ]
}